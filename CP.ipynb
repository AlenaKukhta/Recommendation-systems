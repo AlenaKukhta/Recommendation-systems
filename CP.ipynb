{
 "cells": [
  {
   "cell_type": "markdown",
   "id": "c4160d05",
   "metadata": {},
   "source": [
    "# Course project\n",
    "\n",
    "## **Основное**\n",
    "- Дедлайн - 25.11.2021 20:00\n",
    "- Целевая метрика precision@5\n",
    "- Бейзлайн решения - [MainRecommender](https://github.com/geangohn/recsys-tutorial/blob/master/src/recommenders.py)\n",
    "- Сдаем ссылку на github с решением. В решении должны быть отчетливо видна метрика на новом тестовом сете из файла retail_test1.csv, то есть вам нужно для всех юзеров из этого файла выдать выши рекомендации, и посчитать на actual покупках precision@5. \n",
    "\n",
    "**!! Мы не рассматриваем холодный старт для пользователя, все наши пользователя одинаковы во всех сетах, поэтому нужно позаботиться об их исключении из теста.**\n",
    "\n",
    "\n",
    "**Hints:** \n",
    "\n",
    "Сначала просто попробуйте разные параметры MainRecommender:  \n",
    "- N в топ-N товарах при формировании user-item матирцы (сейчас топ-5000)  \n",
    "- Различные веса в user-item матрице (0/1, кол-во покупок, log(кол-во покупок + 1), сумма покупки, ...)  \n",
    "- Разные взвешивания матрицы (TF-IDF, BM25 - у него есть параметры)  \n",
    "- Разные смешивания рекомендаций (обратите внимание на бейзлайн - прошлые покупки юзера)  \n",
    "\n",
    "Сделайте MVP - минимально рабочий продукт - (пусть даже top-popular), а потом его улучшайте\n",
    "\n",
    "Если вы делаете двухуровневую модель - следите за валидацией "
   ]
  },
  {
   "cell_type": "markdown",
   "id": "4c79fff5",
   "metadata": {},
   "source": [
    "### Импорт модулей"
   ]
  },
  {
   "cell_type": "code",
   "execution_count": 1,
   "id": "a7b3d30e",
   "metadata": {},
   "outputs": [
    {
     "name": "stdout",
     "output_type": "stream",
     "text": [
      "Collecting package metadata (current_repodata.json): done\n",
      "Solving environment: done\n",
      "\n",
      "# All requested packages already installed.\n",
      "\n",
      "\n",
      "Note: you may need to restart the kernel to use updated packages.\n"
     ]
    }
   ],
   "source": [
    "conda install -c conda-forge implicit"
   ]
  },
  {
   "cell_type": "code",
   "execution_count": 2,
   "id": "18f70998",
   "metadata": {},
   "outputs": [
    {
     "name": "stdout",
     "output_type": "stream",
     "text": [
      "zsh:1: no matches found: implicit-proc=*=gpu\n",
      "\n",
      "Note: you may need to restart the kernel to use updated packages.\n"
     ]
    }
   ],
   "source": [
    "conda install -c conda-forge implicit implicit-proc=*=gpu"
   ]
  },
  {
   "cell_type": "code",
   "execution_count": 3,
   "id": "d9364692",
   "metadata": {},
   "outputs": [
    {
     "name": "stdout",
     "output_type": "stream",
     "text": [
      "Requirement already satisfied: implicit in /Users/alenakukhta/opt/anaconda3/lib/python3.8/site-packages (0.4.2)\r\n",
      "Requirement already satisfied: scipy>=0.16 in /Users/alenakukhta/opt/anaconda3/lib/python3.8/site-packages (from implicit) (1.7.1)\r\n",
      "Requirement already satisfied: tqdm>=4.27 in /Users/alenakukhta/opt/anaconda3/lib/python3.8/site-packages (from implicit) (4.62.3)\r\n",
      "Requirement already satisfied: numpy in /Users/alenakukhta/opt/anaconda3/lib/python3.8/site-packages (from implicit) (1.20.3)\r\n"
     ]
    }
   ],
   "source": [
    "!pip install implicit"
   ]
  },
  {
   "cell_type": "code",
   "execution_count": 4,
   "id": "c2721ff7",
   "metadata": {},
   "outputs": [],
   "source": [
    "import implicit"
   ]
  },
  {
   "cell_type": "code",
   "execution_count": 5,
   "id": "cbbc3223",
   "metadata": {},
   "outputs": [
    {
     "name": "stdout",
     "output_type": "stream",
     "text": [
      "Collecting package metadata (current_repodata.json): done\n",
      "Solving environment: done\n",
      "\n",
      "# All requested packages already installed.\n",
      "\n",
      "\n",
      "Note: you may need to restart the kernel to use updated packages.\n"
     ]
    }
   ],
   "source": [
    "conda install -c conda-forge lightgbm"
   ]
  },
  {
   "cell_type": "code",
   "execution_count": 6,
   "id": "47781fe3",
   "metadata": {},
   "outputs": [],
   "source": [
    "import sys"
   ]
  },
  {
   "cell_type": "code",
   "execution_count": 7,
   "id": "1689cf98",
   "metadata": {},
   "outputs": [],
   "source": [
    "import pandas as pd\n",
    "import numpy as np\n",
    "import matplotlib.pyplot as plt\n",
    "%matplotlib inline\n",
    "\n",
    "# Для работы с матрицами\n",
    "from scipy.sparse import csr_matrix\n",
    "\n",
    "# Матричная факторизация\n",
    "from implicit import als\n",
    "from lightgbm import LGBMClassifier\n",
    "\n",
    "import os, sys\n",
    "module_path = os.path.abspath(os.path.join(os.pardir))\n",
    "if module_path not in sys.path:\n",
    "    sys.path.append(module_path)\n",
    "    \n",
    "from statistics import mean\n",
    "\n",
    "# Написанные нами функции\n",
    "from metrics import precision_at_k, recall_at_k, money_precision_at_k\n",
    "\n",
    "\n",
    "\n",
    "# from utils import prefilter_items, get_targets_sec_level, extend_new_user_features, extend_new_item_features, extend_user_item_new_features, get_important_features, get_popularity_recommendations, postfilter_items, get_final_recomendations\n",
    "\n",
    "\n",
    "from utils import prefilter_items, get_targets_sec_level, extend_new_user_features, extend_new_item_features, \\\n",
    "extend_user_item_new_features, get_important_features, get_popularity_recommendations, filter_by_diff_cat, \\\n",
    "postfilter_items, get_final_recomendations\n",
    "\n",
    "\n",
    "from recommenders import MainRecommender\n",
    "\n",
    "from tqdm import tqdm\n",
    "tqdm.pandas()\n",
    "\n",
    "pd.pandas.set_option('display.max_columns', None)\n",
    "import warnings\n",
    "warnings.simplefilter('ignore')"
   ]
  },
  {
   "cell_type": "code",
   "execution_count": 8,
   "id": "283a8bd3",
   "metadata": {},
   "outputs": [],
   "source": [
    "%load_ext autoreload"
   ]
  },
  {
   "cell_type": "markdown",
   "id": "f8ece861",
   "metadata": {},
   "source": [
    "### Загрузка данных и разделение на train и test"
   ]
  },
  {
   "cell_type": "code",
   "execution_count": 9,
   "id": "e3bdcfbc",
   "metadata": {},
   "outputs": [],
   "source": [
    "data = pd.read_csv('retail_train.csv')\n",
    "data_test = pd.read_csv('retail_test1.csv')\n",
    "item_features = pd.read_csv('product.csv')\n",
    "user_features = pd.read_csv('hh_demographic.csv')"
   ]
  },
  {
   "cell_type": "code",
   "execution_count": 10,
   "id": "512a1fda",
   "metadata": {},
   "outputs": [],
   "source": [
    "# column processing\n",
    "item_features.columns = [col.lower() for col in item_features.columns]\n",
    "user_features.columns = [col.lower() for col in user_features.columns]\n",
    "\n",
    "item_features.rename(columns={'product_id': 'item_id'}, inplace=True)\n",
    "user_features.rename(columns={'household_key': 'user_id'}, inplace=True)"
   ]
  },
  {
   "cell_type": "code",
   "execution_count": 11,
   "id": "139eb784",
   "metadata": {},
   "outputs": [],
   "source": [
    "# Количество рекомендаций\n",
    "N=100 \n",
    "\n",
    "VAL_SIZE = 3\n",
    "\n",
    "train_1 = data[data['week_no'] < data['week_no'].max() - (VAL_SIZE)]\n",
    "val = data[data['week_no'] >= data['week_no'].max() - (VAL_SIZE)]\n",
    "\n",
    "train_2 = val.copy()"
   ]
  },
  {
   "cell_type": "markdown",
   "id": "dafcafb1",
   "metadata": {},
   "source": [
    "### Предварительная фильтрация данных"
   ]
  },
  {
   "cell_type": "code",
   "execution_count": 12,
   "id": "f000f178",
   "metadata": {},
   "outputs": [
    {
     "name": "stdout",
     "output_type": "stream",
     "text": [
      "Decreased # items from 86865 to 3001\n"
     ]
    }
   ],
   "source": [
    "n_items_before = train_1['item_id'].nunique()\n",
    "train_1 = prefilter_items(train_1, item_features=item_features, take_n_popular= 3000)\n",
    "n_items_after = train_1['item_id'].nunique()\n",
    "\n",
    "print(f'Decreased # items from {n_items_before} to {n_items_after}')"
   ]
  },
  {
   "cell_type": "markdown",
   "id": "7ebce584",
   "metadata": {},
   "source": [
    "### Обучение модели первого уровня"
   ]
  },
  {
   "cell_type": "code",
   "execution_count": 13,
   "id": "4e9aba8c",
   "metadata": {},
   "outputs": [
    {
     "name": "stderr",
     "output_type": "stream",
     "text": [
      "WARNING:root:Intel MKL BLAS detected. Its highly recommend to set the environment variable 'export MKL_NUM_THREADS=1' to disable its internal multithreading\n"
     ]
    },
    {
     "data": {
      "application/vnd.jupyter.widget-view+json": {
       "model_id": "ef0728fb0b8c4e4082a4ef7102c49d05",
       "version_major": 2,
       "version_minor": 0
      },
      "text/plain": [
       "  0%|          | 0/15 [00:00<?, ?it/s]"
      ]
     },
     "metadata": {},
     "output_type": "display_data"
    },
    {
     "data": {
      "application/vnd.jupyter.widget-view+json": {
       "model_id": "386cdacefc6e49ccb9df20a90e6175cf",
       "version_major": 2,
       "version_minor": 0
      },
      "text/plain": [
       "  0%|          | 0/3001 [00:00<?, ?it/s]"
      ]
     },
     "metadata": {},
     "output_type": "display_data"
    }
   ],
   "source": [
    "recommender = MainRecommender(train_1)"
   ]
  },
  {
   "cell_type": "markdown",
   "id": "85a9c69a",
   "metadata": {},
   "source": [
    "### Эмбеддинги"
   ]
  },
  {
   "cell_type": "code",
   "execution_count": 14,
   "id": "b5ecc7c1",
   "metadata": {},
   "outputs": [],
   "source": [
    "items_emb_df = recommender.items_emb_df\n",
    "users_emb_df = recommender.users_emb_df"
   ]
  },
  {
   "cell_type": "markdown",
   "id": "ab11bddf",
   "metadata": {},
   "source": [
    "### Фичи"
   ]
  },
  {
   "cell_type": "code",
   "execution_count": 15,
   "id": "1d52b03b",
   "metadata": {},
   "outputs": [
    {
     "data": {
      "text/html": [
       "<div>\n",
       "<style scoped>\n",
       "    .dataframe tbody tr th:only-of-type {\n",
       "        vertical-align: middle;\n",
       "    }\n",
       "\n",
       "    .dataframe tbody tr th {\n",
       "        vertical-align: top;\n",
       "    }\n",
       "\n",
       "    .dataframe thead th {\n",
       "        text-align: right;\n",
       "    }\n",
       "</style>\n",
       "<table border=\"1\" class=\"dataframe\">\n",
       "  <thead>\n",
       "    <tr style=\"text-align: right;\">\n",
       "      <th></th>\n",
       "      <th>user_id</th>\n",
       "      <th>basket_id</th>\n",
       "      <th>day</th>\n",
       "      <th>item_id</th>\n",
       "      <th>quantity</th>\n",
       "      <th>sales_value</th>\n",
       "      <th>store_id</th>\n",
       "      <th>retail_disc</th>\n",
       "      <th>trans_time</th>\n",
       "      <th>week_no</th>\n",
       "      <th>coupon_disc_x</th>\n",
       "      <th>coupon_match_disc</th>\n",
       "      <th>price</th>\n",
       "      <th>manufacturer</th>\n",
       "      <th>department</th>\n",
       "      <th>brand</th>\n",
       "      <th>commodity_desc</th>\n",
       "      <th>sub_commodity_desc</th>\n",
       "      <th>curr_size_of_product</th>\n",
       "      <th>0_x</th>\n",
       "      <th>1_x</th>\n",
       "      <th>2_x</th>\n",
       "      <th>3_x</th>\n",
       "      <th>4_x</th>\n",
       "      <th>5_x</th>\n",
       "      <th>6_x</th>\n",
       "      <th>7_x</th>\n",
       "      <th>8_x</th>\n",
       "      <th>9_x</th>\n",
       "      <th>10_x</th>\n",
       "      <th>11_x</th>\n",
       "      <th>12_x</th>\n",
       "      <th>13_x</th>\n",
       "      <th>14_x</th>\n",
       "      <th>15_x</th>\n",
       "      <th>16_x</th>\n",
       "      <th>17_x</th>\n",
       "      <th>18_x</th>\n",
       "      <th>19_x</th>\n",
       "      <th>coupon_disc_y</th>\n",
       "      <th>sales_count_per_dep</th>\n",
       "      <th>qnt_of_sales_per_item_per_dep_per_week</th>\n",
       "      <th>quantity_of_sales</th>\n",
       "      <th>sales_count_per_week</th>\n",
       "      <th>qnt_of_sales_per_sub_commodity_desc</th>\n",
       "      <th>qnt_of_sales_per_item_per_sub_commodity_desc_per_week</th>\n",
       "      <th>marital_status_code</th>\n",
       "      <th>homeowner_desc</th>\n",
       "      <th>hh_comp_desc</th>\n",
       "      <th>household_size_desc</th>\n",
       "      <th>0_y</th>\n",
       "      <th>1_y</th>\n",
       "      <th>2_y</th>\n",
       "      <th>3_y</th>\n",
       "      <th>4_y</th>\n",
       "      <th>5_y</th>\n",
       "      <th>6_y</th>\n",
       "      <th>7_y</th>\n",
       "      <th>8_y</th>\n",
       "      <th>9_y</th>\n",
       "      <th>10_y</th>\n",
       "      <th>11_y</th>\n",
       "      <th>12_y</th>\n",
       "      <th>13_y</th>\n",
       "      <th>14_y</th>\n",
       "      <th>15_y</th>\n",
       "      <th>16_y</th>\n",
       "      <th>17_y</th>\n",
       "      <th>18_y</th>\n",
       "      <th>19_y</th>\n",
       "      <th>mean_time</th>\n",
       "      <th>age</th>\n",
       "      <th>income</th>\n",
       "      <th>children</th>\n",
       "      <th>avr_bask</th>\n",
       "      <th>sum_per_week</th>\n",
       "      <th>count_purchases_week_mean</th>\n",
       "      <th>sum_purchases_week_mean</th>\n",
       "      <th>target</th>\n",
       "    </tr>\n",
       "  </thead>\n",
       "  <tbody>\n",
       "    <tr>\n",
       "      <th>0</th>\n",
       "      <td>338</td>\n",
       "      <td>41260573635</td>\n",
       "      <td>636</td>\n",
       "      <td>840173</td>\n",
       "      <td>1</td>\n",
       "      <td>1.99</td>\n",
       "      <td>369</td>\n",
       "      <td>0.0</td>\n",
       "      <td>112</td>\n",
       "      <td>92</td>\n",
       "      <td>0.0</td>\n",
       "      <td>0.0</td>\n",
       "      <td>1.99</td>\n",
       "      <td>5143</td>\n",
       "      <td>DRUG GM</td>\n",
       "      <td>National</td>\n",
       "      <td>GREETING CARDS/WRAP/PARTY SPLY</td>\n",
       "      <td>CARDS SEASONAL</td>\n",
       "      <td></td>\n",
       "      <td>0.0</td>\n",
       "      <td>0.0</td>\n",
       "      <td>0.0</td>\n",
       "      <td>0.0</td>\n",
       "      <td>0.0</td>\n",
       "      <td>0.0</td>\n",
       "      <td>0.0</td>\n",
       "      <td>0.0</td>\n",
       "      <td>0.0</td>\n",
       "      <td>0.0</td>\n",
       "      <td>0.0</td>\n",
       "      <td>0.0</td>\n",
       "      <td>0.0</td>\n",
       "      <td>0.0</td>\n",
       "      <td>0.0</td>\n",
       "      <td>0.0</td>\n",
       "      <td>0.0</td>\n",
       "      <td>0.0</td>\n",
       "      <td>0.0</td>\n",
       "      <td>0.0</td>\n",
       "      <td>0.0</td>\n",
       "      <td>12767</td>\n",
       "      <td>0.083023</td>\n",
       "      <td>16</td>\n",
       "      <td>4.00</td>\n",
       "      <td>150</td>\n",
       "      <td>0.065789</td>\n",
       "      <td>0</td>\n",
       "      <td>0</td>\n",
       "      <td>0</td>\n",
       "      <td>0</td>\n",
       "      <td>0.0</td>\n",
       "      <td>0.0</td>\n",
       "      <td>0.0</td>\n",
       "      <td>0.0</td>\n",
       "      <td>0.0</td>\n",
       "      <td>0.0</td>\n",
       "      <td>0.0</td>\n",
       "      <td>0.0</td>\n",
       "      <td>0.0</td>\n",
       "      <td>0.0</td>\n",
       "      <td>0.0</td>\n",
       "      <td>0.0</td>\n",
       "      <td>0.0</td>\n",
       "      <td>0.0</td>\n",
       "      <td>0.0</td>\n",
       "      <td>0.0</td>\n",
       "      <td>0.0</td>\n",
       "      <td>0.0</td>\n",
       "      <td>0.0</td>\n",
       "      <td>0.0</td>\n",
       "      <td>0.0</td>\n",
       "      <td>0.0</td>\n",
       "      <td>0.0</td>\n",
       "      <td>0.0</td>\n",
       "      <td>0.0</td>\n",
       "      <td>0.0</td>\n",
       "      <td>0.003030</td>\n",
       "      <td>0.027050</td>\n",
       "      <td>0.0</td>\n",
       "    </tr>\n",
       "    <tr>\n",
       "      <th>1</th>\n",
       "      <td>338</td>\n",
       "      <td>41260573635</td>\n",
       "      <td>636</td>\n",
       "      <td>1037348</td>\n",
       "      <td>1</td>\n",
       "      <td>0.89</td>\n",
       "      <td>369</td>\n",
       "      <td>-0.3</td>\n",
       "      <td>112</td>\n",
       "      <td>92</td>\n",
       "      <td>0.0</td>\n",
       "      <td>0.0</td>\n",
       "      <td>0.89</td>\n",
       "      <td>69</td>\n",
       "      <td>GROCERY</td>\n",
       "      <td>Private</td>\n",
       "      <td>FRUIT - SHELF STABLE</td>\n",
       "      <td>PEACHES</td>\n",
       "      <td>15 OZ</td>\n",
       "      <td>0.0</td>\n",
       "      <td>0.0</td>\n",
       "      <td>0.0</td>\n",
       "      <td>0.0</td>\n",
       "      <td>0.0</td>\n",
       "      <td>0.0</td>\n",
       "      <td>0.0</td>\n",
       "      <td>0.0</td>\n",
       "      <td>0.0</td>\n",
       "      <td>0.0</td>\n",
       "      <td>0.0</td>\n",
       "      <td>0.0</td>\n",
       "      <td>0.0</td>\n",
       "      <td>0.0</td>\n",
       "      <td>0.0</td>\n",
       "      <td>0.0</td>\n",
       "      <td>0.0</td>\n",
       "      <td>0.0</td>\n",
       "      <td>0.0</td>\n",
       "      <td>0.0</td>\n",
       "      <td>0.0</td>\n",
       "      <td>75953</td>\n",
       "      <td>0.187069</td>\n",
       "      <td>4</td>\n",
       "      <td>1.00</td>\n",
       "      <td>93</td>\n",
       "      <td>0.202174</td>\n",
       "      <td>0</td>\n",
       "      <td>0</td>\n",
       "      <td>0</td>\n",
       "      <td>0</td>\n",
       "      <td>0.0</td>\n",
       "      <td>0.0</td>\n",
       "      <td>0.0</td>\n",
       "      <td>0.0</td>\n",
       "      <td>0.0</td>\n",
       "      <td>0.0</td>\n",
       "      <td>0.0</td>\n",
       "      <td>0.0</td>\n",
       "      <td>0.0</td>\n",
       "      <td>0.0</td>\n",
       "      <td>0.0</td>\n",
       "      <td>0.0</td>\n",
       "      <td>0.0</td>\n",
       "      <td>0.0</td>\n",
       "      <td>0.0</td>\n",
       "      <td>0.0</td>\n",
       "      <td>0.0</td>\n",
       "      <td>0.0</td>\n",
       "      <td>0.0</td>\n",
       "      <td>0.0</td>\n",
       "      <td>0.0</td>\n",
       "      <td>0.0</td>\n",
       "      <td>0.0</td>\n",
       "      <td>0.0</td>\n",
       "      <td>0.0</td>\n",
       "      <td>0.0</td>\n",
       "      <td>0.003464</td>\n",
       "      <td>0.004358</td>\n",
       "      <td>0.0</td>\n",
       "    </tr>\n",
       "    <tr>\n",
       "      <th>2</th>\n",
       "      <td>338</td>\n",
       "      <td>41260573635</td>\n",
       "      <td>636</td>\n",
       "      <td>5592737</td>\n",
       "      <td>2</td>\n",
       "      <td>1.58</td>\n",
       "      <td>369</td>\n",
       "      <td>-0.2</td>\n",
       "      <td>112</td>\n",
       "      <td>92</td>\n",
       "      <td>0.0</td>\n",
       "      <td>0.0</td>\n",
       "      <td>0.79</td>\n",
       "      <td>69</td>\n",
       "      <td>GROCERY</td>\n",
       "      <td>Private</td>\n",
       "      <td>FRUIT - SHELF STABLE</td>\n",
       "      <td>PINEAPPLE</td>\n",
       "      <td>20 OZ</td>\n",
       "      <td>0.0</td>\n",
       "      <td>0.0</td>\n",
       "      <td>0.0</td>\n",
       "      <td>0.0</td>\n",
       "      <td>0.0</td>\n",
       "      <td>0.0</td>\n",
       "      <td>0.0</td>\n",
       "      <td>0.0</td>\n",
       "      <td>0.0</td>\n",
       "      <td>0.0</td>\n",
       "      <td>0.0</td>\n",
       "      <td>0.0</td>\n",
       "      <td>0.0</td>\n",
       "      <td>0.0</td>\n",
       "      <td>0.0</td>\n",
       "      <td>0.0</td>\n",
       "      <td>0.0</td>\n",
       "      <td>0.0</td>\n",
       "      <td>0.0</td>\n",
       "      <td>0.0</td>\n",
       "      <td>0.0</td>\n",
       "      <td>75953</td>\n",
       "      <td>0.187069</td>\n",
       "      <td>3</td>\n",
       "      <td>0.75</td>\n",
       "      <td>195</td>\n",
       "      <td>0.211039</td>\n",
       "      <td>0</td>\n",
       "      <td>0</td>\n",
       "      <td>0</td>\n",
       "      <td>0</td>\n",
       "      <td>0.0</td>\n",
       "      <td>0.0</td>\n",
       "      <td>0.0</td>\n",
       "      <td>0.0</td>\n",
       "      <td>0.0</td>\n",
       "      <td>0.0</td>\n",
       "      <td>0.0</td>\n",
       "      <td>0.0</td>\n",
       "      <td>0.0</td>\n",
       "      <td>0.0</td>\n",
       "      <td>0.0</td>\n",
       "      <td>0.0</td>\n",
       "      <td>0.0</td>\n",
       "      <td>0.0</td>\n",
       "      <td>0.0</td>\n",
       "      <td>0.0</td>\n",
       "      <td>0.0</td>\n",
       "      <td>0.0</td>\n",
       "      <td>0.0</td>\n",
       "      <td>0.0</td>\n",
       "      <td>0.0</td>\n",
       "      <td>0.0</td>\n",
       "      <td>0.0</td>\n",
       "      <td>0.0</td>\n",
       "      <td>0.0</td>\n",
       "      <td>0.0</td>\n",
       "      <td>0.003464</td>\n",
       "      <td>0.004358</td>\n",
       "      <td>0.0</td>\n",
       "    </tr>\n",
       "    <tr>\n",
       "      <th>3</th>\n",
       "      <td>338</td>\n",
       "      <td>41260573635</td>\n",
       "      <td>636</td>\n",
       "      <td>7441679</td>\n",
       "      <td>1</td>\n",
       "      <td>3.69</td>\n",
       "      <td>369</td>\n",
       "      <td>0.0</td>\n",
       "      <td>112</td>\n",
       "      <td>92</td>\n",
       "      <td>0.0</td>\n",
       "      <td>0.0</td>\n",
       "      <td>3.69</td>\n",
       "      <td>1407</td>\n",
       "      <td>DRUG GM</td>\n",
       "      <td>National</td>\n",
       "      <td>GREETING CARDS/WRAP/PARTY SPLY</td>\n",
       "      <td>CARDS SEASONAL</td>\n",
       "      <td></td>\n",
       "      <td>0.0</td>\n",
       "      <td>0.0</td>\n",
       "      <td>0.0</td>\n",
       "      <td>0.0</td>\n",
       "      <td>0.0</td>\n",
       "      <td>0.0</td>\n",
       "      <td>0.0</td>\n",
       "      <td>0.0</td>\n",
       "      <td>0.0</td>\n",
       "      <td>0.0</td>\n",
       "      <td>0.0</td>\n",
       "      <td>0.0</td>\n",
       "      <td>0.0</td>\n",
       "      <td>0.0</td>\n",
       "      <td>0.0</td>\n",
       "      <td>0.0</td>\n",
       "      <td>0.0</td>\n",
       "      <td>0.0</td>\n",
       "      <td>0.0</td>\n",
       "      <td>0.0</td>\n",
       "      <td>0.0</td>\n",
       "      <td>12767</td>\n",
       "      <td>0.083023</td>\n",
       "      <td>6</td>\n",
       "      <td>1.50</td>\n",
       "      <td>150</td>\n",
       "      <td>0.065789</td>\n",
       "      <td>0</td>\n",
       "      <td>0</td>\n",
       "      <td>0</td>\n",
       "      <td>0</td>\n",
       "      <td>0.0</td>\n",
       "      <td>0.0</td>\n",
       "      <td>0.0</td>\n",
       "      <td>0.0</td>\n",
       "      <td>0.0</td>\n",
       "      <td>0.0</td>\n",
       "      <td>0.0</td>\n",
       "      <td>0.0</td>\n",
       "      <td>0.0</td>\n",
       "      <td>0.0</td>\n",
       "      <td>0.0</td>\n",
       "      <td>0.0</td>\n",
       "      <td>0.0</td>\n",
       "      <td>0.0</td>\n",
       "      <td>0.0</td>\n",
       "      <td>0.0</td>\n",
       "      <td>0.0</td>\n",
       "      <td>0.0</td>\n",
       "      <td>0.0</td>\n",
       "      <td>0.0</td>\n",
       "      <td>0.0</td>\n",
       "      <td>0.0</td>\n",
       "      <td>0.0</td>\n",
       "      <td>0.0</td>\n",
       "      <td>0.0</td>\n",
       "      <td>0.0</td>\n",
       "      <td>0.003030</td>\n",
       "      <td>0.027050</td>\n",
       "      <td>0.0</td>\n",
       "    </tr>\n",
       "    <tr>\n",
       "      <th>4</th>\n",
       "      <td>338</td>\n",
       "      <td>41260573635</td>\n",
       "      <td>636</td>\n",
       "      <td>7442317</td>\n",
       "      <td>1</td>\n",
       "      <td>2.69</td>\n",
       "      <td>369</td>\n",
       "      <td>0.0</td>\n",
       "      <td>112</td>\n",
       "      <td>92</td>\n",
       "      <td>0.0</td>\n",
       "      <td>0.0</td>\n",
       "      <td>2.69</td>\n",
       "      <td>1407</td>\n",
       "      <td>DRUG GM</td>\n",
       "      <td>National</td>\n",
       "      <td>GREETING CARDS/WRAP/PARTY SPLY</td>\n",
       "      <td>CARDS SEASONAL</td>\n",
       "      <td></td>\n",
       "      <td>0.0</td>\n",
       "      <td>0.0</td>\n",
       "      <td>0.0</td>\n",
       "      <td>0.0</td>\n",
       "      <td>0.0</td>\n",
       "      <td>0.0</td>\n",
       "      <td>0.0</td>\n",
       "      <td>0.0</td>\n",
       "      <td>0.0</td>\n",
       "      <td>0.0</td>\n",
       "      <td>0.0</td>\n",
       "      <td>0.0</td>\n",
       "      <td>0.0</td>\n",
       "      <td>0.0</td>\n",
       "      <td>0.0</td>\n",
       "      <td>0.0</td>\n",
       "      <td>0.0</td>\n",
       "      <td>0.0</td>\n",
       "      <td>0.0</td>\n",
       "      <td>0.0</td>\n",
       "      <td>0.0</td>\n",
       "      <td>12767</td>\n",
       "      <td>0.083023</td>\n",
       "      <td>13</td>\n",
       "      <td>3.25</td>\n",
       "      <td>150</td>\n",
       "      <td>0.065789</td>\n",
       "      <td>0</td>\n",
       "      <td>0</td>\n",
       "      <td>0</td>\n",
       "      <td>0</td>\n",
       "      <td>0.0</td>\n",
       "      <td>0.0</td>\n",
       "      <td>0.0</td>\n",
       "      <td>0.0</td>\n",
       "      <td>0.0</td>\n",
       "      <td>0.0</td>\n",
       "      <td>0.0</td>\n",
       "      <td>0.0</td>\n",
       "      <td>0.0</td>\n",
       "      <td>0.0</td>\n",
       "      <td>0.0</td>\n",
       "      <td>0.0</td>\n",
       "      <td>0.0</td>\n",
       "      <td>0.0</td>\n",
       "      <td>0.0</td>\n",
       "      <td>0.0</td>\n",
       "      <td>0.0</td>\n",
       "      <td>0.0</td>\n",
       "      <td>0.0</td>\n",
       "      <td>0.0</td>\n",
       "      <td>0.0</td>\n",
       "      <td>0.0</td>\n",
       "      <td>0.0</td>\n",
       "      <td>0.0</td>\n",
       "      <td>0.0</td>\n",
       "      <td>0.0</td>\n",
       "      <td>0.003030</td>\n",
       "      <td>0.027050</td>\n",
       "      <td>0.0</td>\n",
       "    </tr>\n",
       "  </tbody>\n",
       "</table>\n",
       "</div>"
      ],
      "text/plain": [
       "   user_id    basket_id  day  item_id  quantity  sales_value  store_id  \\\n",
       "0      338  41260573635  636   840173         1         1.99       369   \n",
       "1      338  41260573635  636  1037348         1         0.89       369   \n",
       "2      338  41260573635  636  5592737         2         1.58       369   \n",
       "3      338  41260573635  636  7441679         1         3.69       369   \n",
       "4      338  41260573635  636  7442317         1         2.69       369   \n",
       "\n",
       "   retail_disc  trans_time  week_no  coupon_disc_x  coupon_match_disc  price  \\\n",
       "0          0.0         112       92            0.0                0.0   1.99   \n",
       "1         -0.3         112       92            0.0                0.0   0.89   \n",
       "2         -0.2         112       92            0.0                0.0   0.79   \n",
       "3          0.0         112       92            0.0                0.0   3.69   \n",
       "4          0.0         112       92            0.0                0.0   2.69   \n",
       "\n",
       "   manufacturer department     brand                  commodity_desc  \\\n",
       "0          5143    DRUG GM  National  GREETING CARDS/WRAP/PARTY SPLY   \n",
       "1            69    GROCERY   Private            FRUIT - SHELF STABLE   \n",
       "2            69    GROCERY   Private            FRUIT - SHELF STABLE   \n",
       "3          1407    DRUG GM  National  GREETING CARDS/WRAP/PARTY SPLY   \n",
       "4          1407    DRUG GM  National  GREETING CARDS/WRAP/PARTY SPLY   \n",
       "\n",
       "  sub_commodity_desc curr_size_of_product  0_x  1_x  2_x  3_x  4_x  5_x  6_x  \\\n",
       "0     CARDS SEASONAL                       0.0  0.0  0.0  0.0  0.0  0.0  0.0   \n",
       "1            PEACHES                15 OZ  0.0  0.0  0.0  0.0  0.0  0.0  0.0   \n",
       "2          PINEAPPLE                20 OZ  0.0  0.0  0.0  0.0  0.0  0.0  0.0   \n",
       "3     CARDS SEASONAL                       0.0  0.0  0.0  0.0  0.0  0.0  0.0   \n",
       "4     CARDS SEASONAL                       0.0  0.0  0.0  0.0  0.0  0.0  0.0   \n",
       "\n",
       "   7_x  8_x  9_x  10_x  11_x  12_x  13_x  14_x  15_x  16_x  17_x  18_x  19_x  \\\n",
       "0  0.0  0.0  0.0   0.0   0.0   0.0   0.0   0.0   0.0   0.0   0.0   0.0   0.0   \n",
       "1  0.0  0.0  0.0   0.0   0.0   0.0   0.0   0.0   0.0   0.0   0.0   0.0   0.0   \n",
       "2  0.0  0.0  0.0   0.0   0.0   0.0   0.0   0.0   0.0   0.0   0.0   0.0   0.0   \n",
       "3  0.0  0.0  0.0   0.0   0.0   0.0   0.0   0.0   0.0   0.0   0.0   0.0   0.0   \n",
       "4  0.0  0.0  0.0   0.0   0.0   0.0   0.0   0.0   0.0   0.0   0.0   0.0   0.0   \n",
       "\n",
       "   coupon_disc_y  sales_count_per_dep  qnt_of_sales_per_item_per_dep_per_week  \\\n",
       "0            0.0                12767                                0.083023   \n",
       "1            0.0                75953                                0.187069   \n",
       "2            0.0                75953                                0.187069   \n",
       "3            0.0                12767                                0.083023   \n",
       "4            0.0                12767                                0.083023   \n",
       "\n",
       "   quantity_of_sales  sales_count_per_week  \\\n",
       "0                 16                  4.00   \n",
       "1                  4                  1.00   \n",
       "2                  3                  0.75   \n",
       "3                  6                  1.50   \n",
       "4                 13                  3.25   \n",
       "\n",
       "   qnt_of_sales_per_sub_commodity_desc  \\\n",
       "0                                  150   \n",
       "1                                   93   \n",
       "2                                  195   \n",
       "3                                  150   \n",
       "4                                  150   \n",
       "\n",
       "   qnt_of_sales_per_item_per_sub_commodity_desc_per_week marital_status_code  \\\n",
       "0                                           0.065789                       0   \n",
       "1                                           0.202174                       0   \n",
       "2                                           0.211039                       0   \n",
       "3                                           0.065789                       0   \n",
       "4                                           0.065789                       0   \n",
       "\n",
       "  homeowner_desc hh_comp_desc household_size_desc  0_y  1_y  2_y  3_y  4_y  \\\n",
       "0              0            0                   0  0.0  0.0  0.0  0.0  0.0   \n",
       "1              0            0                   0  0.0  0.0  0.0  0.0  0.0   \n",
       "2              0            0                   0  0.0  0.0  0.0  0.0  0.0   \n",
       "3              0            0                   0  0.0  0.0  0.0  0.0  0.0   \n",
       "4              0            0                   0  0.0  0.0  0.0  0.0  0.0   \n",
       "\n",
       "   5_y  6_y  7_y  8_y  9_y  10_y  11_y  12_y  13_y  14_y  15_y  16_y  17_y  \\\n",
       "0  0.0  0.0  0.0  0.0  0.0   0.0   0.0   0.0   0.0   0.0   0.0   0.0   0.0   \n",
       "1  0.0  0.0  0.0  0.0  0.0   0.0   0.0   0.0   0.0   0.0   0.0   0.0   0.0   \n",
       "2  0.0  0.0  0.0  0.0  0.0   0.0   0.0   0.0   0.0   0.0   0.0   0.0   0.0   \n",
       "3  0.0  0.0  0.0  0.0  0.0   0.0   0.0   0.0   0.0   0.0   0.0   0.0   0.0   \n",
       "4  0.0  0.0  0.0  0.0  0.0   0.0   0.0   0.0   0.0   0.0   0.0   0.0   0.0   \n",
       "\n",
       "   18_y  19_y  mean_time  age  income  children  avr_bask  sum_per_week  \\\n",
       "0   0.0   0.0        0.0  0.0     0.0       0.0       0.0           0.0   \n",
       "1   0.0   0.0        0.0  0.0     0.0       0.0       0.0           0.0   \n",
       "2   0.0   0.0        0.0  0.0     0.0       0.0       0.0           0.0   \n",
       "3   0.0   0.0        0.0  0.0     0.0       0.0       0.0           0.0   \n",
       "4   0.0   0.0        0.0  0.0     0.0       0.0       0.0           0.0   \n",
       "\n",
       "   count_purchases_week_mean  sum_purchases_week_mean  target  \n",
       "0                   0.003030                 0.027050     0.0  \n",
       "1                   0.003464                 0.004358     0.0  \n",
       "2                   0.003464                 0.004358     0.0  \n",
       "3                   0.003030                 0.027050     0.0  \n",
       "4                   0.003030                 0.027050     0.0  "
      ]
     },
     "execution_count": 15,
     "metadata": {},
     "output_type": "execute_result"
    }
   ],
   "source": [
    "train = extend_user_item_new_features(train_2, train_1, recommender, item_features, user_features, items_emb_df, users_emb_df, N)\n",
    "train.head()"
   ]
  },
  {
   "cell_type": "code",
   "execution_count": 16,
   "id": "58cc02f1",
   "metadata": {},
   "outputs": [],
   "source": [
    "X_train = train.drop(['target'], axis=1)\n",
    "y_train = train[['target']]"
   ]
  },
  {
   "cell_type": "code",
   "execution_count": 17,
   "id": "c0c788f3",
   "metadata": {},
   "outputs": [],
   "source": [
    "cat_features=[]\n",
    "for col in X_train.columns:\n",
    "    if(X_train[col].dtype == np.object):\n",
    "          cat_features.append(col)\n",
    "            \n",
    "X_train[cat_features + ['user_id', 'item_id']] = X_train[cat_features + ['user_id', 'item_id']].astype('category')"
   ]
  },
  {
   "cell_type": "code",
   "execution_count": 18,
   "id": "375b98a4",
   "metadata": {},
   "outputs": [],
   "source": [
    "test = extend_user_item_new_features(data_test, train_1, recommender, item_features, user_features, items_emb_df, users_emb_df, N)\n",
    "X_test = test.drop(['target'], axis=1)\n",
    "y_test = test[['target']]\n",
    "X_test[cat_features + ['user_id', 'item_id']] = X_test[cat_features + ['user_id', 'item_id']].astype('category')"
   ]
  },
  {
   "cell_type": "markdown",
   "id": "c3d6d789",
   "metadata": {},
   "source": [
    "### Выполнение lgb для определения наиболее важных фичей"
   ]
  },
  {
   "cell_type": "code",
   "execution_count": 19,
   "id": "f3aa4cf7",
   "metadata": {},
   "outputs": [],
   "source": [
    "lgb = LGBMClassifier(objective='binary', max_depth=5, categorical_column=cat_features)\n",
    "important_features = get_important_features(lgb, X_train, y_train)"
   ]
  },
  {
   "cell_type": "markdown",
   "id": "3418b15f",
   "metadata": {},
   "source": [
    "### Обучение модели второго уровня"
   ]
  },
  {
   "cell_type": "code",
   "execution_count": 20,
   "id": "b84e8d69",
   "metadata": {},
   "outputs": [
    {
     "data": {
      "text/plain": [
       "LGBMClassifier(categorical_feature=['department', 'brand', 'commodity_desc',\n",
       "                                    'sub_commodity_desc',\n",
       "                                    'curr_size_of_product',\n",
       "                                    'marital_status_code', 'homeowner_desc',\n",
       "                                    'hh_comp_desc', 'household_size_desc'],\n",
       "               max_depth=5, objective='binary')"
      ]
     },
     "execution_count": 20,
     "metadata": {},
     "output_type": "execute_result"
    }
   ],
   "source": [
    "lgb = LGBMClassifier(\n",
    "    objective='binary',\n",
    "    max_depth=5,\n",
    "    categorical_feature=cat_features\n",
    ")\n",
    "lgb.fit(X_train[important_features], y_train)"
   ]
  },
  {
   "cell_type": "code",
   "execution_count": 21,
   "id": "7b53370c",
   "metadata": {},
   "outputs": [],
   "source": [
    "preds = lgb.predict(X_test[important_features])\n",
    "test_preds_proba = lgb.predict_proba(X_test[important_features])[:, 1]"
   ]
  },
  {
   "cell_type": "markdown",
   "id": "d214ed27",
   "metadata": {},
   "source": [
    "### Финальная фильтрация данных"
   ]
  },
  {
   "cell_type": "code",
   "execution_count": 22,
   "id": "ffc6c8c1",
   "metadata": {},
   "outputs": [
    {
     "name": "stderr",
     "output_type": "stream",
     "text": [
      "100%|███████████████████████████████████████| 2499/2499 [05:13<00:00,  7.98it/s]\n"
     ]
    }
   ],
   "source": [
    "result = get_final_recomendations(X_test, test_preds_proba, data, train_1, item_features)"
   ]
  },
  {
   "cell_type": "code",
   "execution_count": 23,
   "id": "8d321713",
   "metadata": {},
   "outputs": [],
   "source": [
    "price = train_1.groupby('item_id')['price'].mean().reset_index()"
   ]
  },
  {
   "cell_type": "markdown",
   "id": "9a22f8c7",
   "metadata": {},
   "source": [
    "### Money precision @ k"
   ]
  },
  {
   "cell_type": "code",
   "execution_count": 24,
   "id": "e09193ce",
   "metadata": {},
   "outputs": [],
   "source": [
    "final_result = result.apply(lambda row: money_precision_at_k(row['recomendations'], row['actual'], price), axis=1).mean()"
   ]
  },
  {
   "cell_type": "code",
   "execution_count": 25,
   "id": "dc8f1e0a",
   "metadata": {},
   "outputs": [
    {
     "data": {
      "text/plain": [
       "0.36684202982926795"
      ]
     },
     "execution_count": 25,
     "metadata": {},
     "output_type": "execute_result"
    }
   ],
   "source": [
    "final_result"
   ]
  },
  {
   "cell_type": "markdown",
   "id": "6fed2bfa",
   "metadata": {},
   "source": [
    "### Сохранение предсказания"
   ]
  },
  {
   "cell_type": "code",
   "execution_count": 26,
   "id": "a7ae68c0",
   "metadata": {},
   "outputs": [],
   "source": [
    "result.drop('actual', axis=1, inplace=True)"
   ]
  },
  {
   "cell_type": "code",
   "execution_count": 27,
   "id": "3b8bb378",
   "metadata": {},
   "outputs": [],
   "source": [
    "result.to_csv('recommendations.csv', index=False)"
   ]
  }
 ],
 "metadata": {
  "kernelspec": {
   "display_name": "Python 3 (ipykernel)",
   "language": "python",
   "name": "python3"
  },
  "language_info": {
   "codemirror_mode": {
    "name": "ipython",
    "version": 3
   },
   "file_extension": ".py",
   "mimetype": "text/x-python",
   "name": "python",
   "nbconvert_exporter": "python",
   "pygments_lexer": "ipython3",
   "version": "3.8.12"
  }
 },
 "nbformat": 4,
 "nbformat_minor": 5
}
